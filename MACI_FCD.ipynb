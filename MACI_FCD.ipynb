{
 "cells": [
  {
   "cell_type": "code",
   "execution_count": 1,
   "id": "d631e3a5",
   "metadata": {},
   "outputs": [],
   "source": [
    "import pandas as pd\n",
    "import numpy as np\n",
    "import matplotlib.pyplot as plt\n",
    "import sklearn"
   ]
  },
  {
   "cell_type": "code",
   "execution_count": 2,
   "id": "fbf322b5",
   "metadata": {},
   "outputs": [],
   "source": [
    "df = pd.read_excel(\"BASE DE DATOS MACI VF.xlsx\")"
   ]
  },
  {
   "cell_type": "code",
   "execution_count": 3,
   "id": "922e70b4",
   "metadata": {},
   "outputs": [
    {
     "name": "stdout",
     "output_type": "stream",
     "text": [
      "<class 'pandas.core.frame.DataFrame'>\n",
      "RangeIndex: 298 entries, 0 to 297\n",
      "Data columns (total 76 columns):\n",
      " #   Column               Non-Null Count  Dtype  \n",
      "---  ------               --------------  -----  \n",
      " 0   Estudiante           298 non-null    object \n",
      " 1   Generación           298 non-null    int64  \n",
      " 2   Sexo                 298 non-null    object \n",
      " 3   PDT Lenguaje         298 non-null    int64  \n",
      " 4   PDT Matemáticas      298 non-null    int64  \n",
      " 5   XPDT                 298 non-null    float64\n",
      " 6   PDT Historia         163 non-null    float64\n",
      " 7   PDT Ciencias         187 non-null    float64\n",
      " 8   Promedio Final IVM   298 non-null    object \n",
      " 9   Asistencia IVM       298 non-null    int64  \n",
      " 10  LEN IVM              298 non-null    float64\n",
      " 11  INGIVM               218 non-null    object \n",
      " 12  MAtIVM               298 non-null    float64\n",
      " 13  HIAIVM               218 non-null    object \n",
      " 14  FILIVM               258 non-null    object \n",
      " 15  FETIVM               218 non-null    object \n",
      " 16  BIOIVM               218 non-null    object \n",
      " 17  FISQUMIVM            231 non-null    object \n",
      " 18  AVIVM                233 non-null    object \n",
      " 19  AMIV                 207 non-null    object \n",
      " 20  EFIVM                228 non-null    object \n",
      " 21  ELECTIVO1IV          298 non-null    object \n",
      " 22  ELECTIVO2IV          297 non-null    object \n",
      " 23  ELECTIVO3IV          80 non-null     float64\n",
      " 24  Promedio Final IIIM  298 non-null    float64\n",
      " 25  Asistencia IIIM      298 non-null    int64  \n",
      " 26  LEN IIIM             298 non-null    float64\n",
      " 27  INGIIIM              298 non-null    float64\n",
      " 28  MAtIIIM              298 non-null    float64\n",
      " 29  HIAIIIM              298 non-null    float64\n",
      " 30  FILIIIM              298 non-null    object \n",
      " 31  FETIIIM              298 non-null    object \n",
      " 32  BIOIIIM              298 non-null    float64\n",
      " 33  FISQUMIIIM           298 non-null    float64\n",
      " 34  ARTIIIM              298 non-null    object \n",
      " 35  EFIIIIM              298 non-null    float64\n",
      " 36  ELECTIVO1III         298 non-null    float64\n",
      " 37  ELECTIVO2III         298 non-null    float64\n",
      " 38  Promedio Final IIM   298 non-null    float64\n",
      " 39  Asistencia IIM       298 non-null    int64  \n",
      " 40  LENIIM               298 non-null    float64\n",
      " 41  INGIIM               298 non-null    float64\n",
      " 42  MAtIIM               298 non-null    float64\n",
      " 43  HIAIIM               298 non-null    float64\n",
      " 44  FETIIM               298 non-null    float64\n",
      " 45  BIOIIM               298 non-null    float64\n",
      " 46  FISIIM               298 non-null    float64\n",
      " 47  QUIMIIM              298 non-null    float64\n",
      " 48  AVMIIM               298 non-null    float64\n",
      " 49  TECIIM               298 non-null    float64\n",
      " 50  EFIiIM               298 non-null    float64\n",
      " 51  Promedio Final IM    298 non-null    float64\n",
      " 52  Asistencia IM        298 non-null    int64  \n",
      " 53  LENIM                298 non-null    float64\n",
      " 54  INGIM                298 non-null    float64\n",
      " 55  MAtIM                298 non-null    float64\n",
      " 56  HIAIM                298 non-null    float64\n",
      " 57  FETIM                248 non-null    float64\n",
      " 58  BIOIM                298 non-null    float64\n",
      " 59  FISIM                298 non-null    float64\n",
      " 60  QUIMIM               298 non-null    float64\n",
      " 61  ARTIM                298 non-null    object \n",
      " 62  TECIM                298 non-null    float64\n",
      " 63  EFIiM                298 non-null    float64\n",
      " 64  Unnamed: 64          0 non-null      float64\n",
      " 65  Unnamed: 65          0 non-null      float64\n",
      " 66  Unnamed: 66          0 non-null      float64\n",
      " 67  Unnamed: 67          0 non-null      float64\n",
      " 68  Unnamed: 68          0 non-null      float64\n",
      " 69  Unnamed: 69          0 non-null      float64\n",
      " 70  Unnamed: 70          0 non-null      float64\n",
      " 71  Unnamed: 71          0 non-null      float64\n",
      " 72  Unnamed: 72          0 non-null      float64\n",
      " 73  Unnamed: 73          0 non-null      float64\n",
      " 74  Unnamed: 74          30 non-null     float64\n",
      " 75  Unnamed: 75          0 non-null      float64\n",
      "dtypes: float64(51), int64(7), object(18)\n",
      "memory usage: 177.1+ KB\n"
     ]
    }
   ],
   "source": [
    "df.info()"
   ]
  },
  {
   "cell_type": "code",
   "execution_count": 4,
   "id": "330fcad6",
   "metadata": {},
   "outputs": [],
   "source": [
    "#eliminamos columnas que tengan más de 100 NaNs\n",
    "max_number_of_nas = 100\n",
    "df = df.loc[:, (df.isnull().sum(axis=0) <= max_number_of_nas)]"
   ]
  },
  {
   "cell_type": "code",
   "execution_count": 5,
   "id": "d06a8512",
   "metadata": {},
   "outputs": [
    {
     "name": "stdout",
     "output_type": "stream",
     "text": [
      "<class 'pandas.core.frame.DataFrame'>\n",
      "RangeIndex: 298 entries, 0 to 297\n",
      "Data columns (total 61 columns):\n",
      " #   Column               Non-Null Count  Dtype  \n",
      "---  ------               --------------  -----  \n",
      " 0   Estudiante           298 non-null    object \n",
      " 1   Generación           298 non-null    int64  \n",
      " 2   Sexo                 298 non-null    object \n",
      " 3   PDT Lenguaje         298 non-null    int64  \n",
      " 4   PDT Matemáticas      298 non-null    int64  \n",
      " 5   XPDT                 298 non-null    float64\n",
      " 6   Promedio Final IVM   298 non-null    object \n",
      " 7   Asistencia IVM       298 non-null    int64  \n",
      " 8   LEN IVM              298 non-null    float64\n",
      " 9   INGIVM               218 non-null    object \n",
      " 10  MAtIVM               298 non-null    float64\n",
      " 11  HIAIVM               218 non-null    object \n",
      " 12  FILIVM               258 non-null    object \n",
      " 13  FETIVM               218 non-null    object \n",
      " 14  BIOIVM               218 non-null    object \n",
      " 15  FISQUMIVM            231 non-null    object \n",
      " 16  AVIVM                233 non-null    object \n",
      " 17  AMIV                 207 non-null    object \n",
      " 18  EFIVM                228 non-null    object \n",
      " 19  ELECTIVO1IV          298 non-null    object \n",
      " 20  ELECTIVO2IV          297 non-null    object \n",
      " 21  Promedio Final IIIM  298 non-null    float64\n",
      " 22  Asistencia IIIM      298 non-null    int64  \n",
      " 23  LEN IIIM             298 non-null    float64\n",
      " 24  INGIIIM              298 non-null    float64\n",
      " 25  MAtIIIM              298 non-null    float64\n",
      " 26  HIAIIIM              298 non-null    float64\n",
      " 27  FILIIIM              298 non-null    object \n",
      " 28  FETIIIM              298 non-null    object \n",
      " 29  BIOIIIM              298 non-null    float64\n",
      " 30  FISQUMIIIM           298 non-null    float64\n",
      " 31  ARTIIIM              298 non-null    object \n",
      " 32  EFIIIIM              298 non-null    float64\n",
      " 33  ELECTIVO1III         298 non-null    float64\n",
      " 34  ELECTIVO2III         298 non-null    float64\n",
      " 35  Promedio Final IIM   298 non-null    float64\n",
      " 36  Asistencia IIM       298 non-null    int64  \n",
      " 37  LENIIM               298 non-null    float64\n",
      " 38  INGIIM               298 non-null    float64\n",
      " 39  MAtIIM               298 non-null    float64\n",
      " 40  HIAIIM               298 non-null    float64\n",
      " 41  FETIIM               298 non-null    float64\n",
      " 42  BIOIIM               298 non-null    float64\n",
      " 43  FISIIM               298 non-null    float64\n",
      " 44  QUIMIIM              298 non-null    float64\n",
      " 45  AVMIIM               298 non-null    float64\n",
      " 46  TECIIM               298 non-null    float64\n",
      " 47  EFIiIM               298 non-null    float64\n",
      " 48  Promedio Final IM    298 non-null    float64\n",
      " 49  Asistencia IM        298 non-null    int64  \n",
      " 50  LENIM                298 non-null    float64\n",
      " 51  INGIM                298 non-null    float64\n",
      " 52  MAtIM                298 non-null    float64\n",
      " 53  HIAIM                298 non-null    float64\n",
      " 54  FETIM                248 non-null    float64\n",
      " 55  BIOIM                298 non-null    float64\n",
      " 56  FISIM                298 non-null    float64\n",
      " 57  QUIMIM               298 non-null    float64\n",
      " 58  ARTIM                298 non-null    object \n",
      " 59  TECIM                298 non-null    float64\n",
      " 60  EFIiM                298 non-null    float64\n",
      "dtypes: float64(36), int64(7), object(18)\n",
      "memory usage: 142.1+ KB\n"
     ]
    }
   ],
   "source": [
    "df.info()"
   ]
  },
  {
   "cell_type": "code",
   "execution_count": 6,
   "id": "bdaae912",
   "metadata": {},
   "outputs": [],
   "source": [
    "diccionario = {'EX':np.nan,'-':np.nan,'6,0':6.0,'6,1':6.1,'6,2':6.2,'6,3':6.3,'6,4':6.4,'6,5':6.5,'6,6':6.6,'6,7':6.7,'6,8':6.8,'6,9':6.9,'7,0':7,'6.8':6.8,'4,8':4.8,'4.8':4.8,'5,1':5.1,'5,2':5.2,'5,7':5.7,'5,9':5.9,'6.9':6.9}"
   ]
  },
  {
   "cell_type": "code",
   "execution_count": 7,
   "id": "d5922423",
   "metadata": {},
   "outputs": [],
   "source": [
    "df=df.replace(diccionario)"
   ]
  },
  {
   "cell_type": "code",
   "execution_count": 8,
   "id": "7ec4ef09",
   "metadata": {},
   "outputs": [
    {
     "name": "stdout",
     "output_type": "stream",
     "text": [
      "<class 'pandas.core.frame.DataFrame'>\n",
      "RangeIndex: 298 entries, 0 to 297\n",
      "Data columns (total 61 columns):\n",
      " #   Column               Non-Null Count  Dtype  \n",
      "---  ------               --------------  -----  \n",
      " 0   Estudiante           298 non-null    object \n",
      " 1   Generación           298 non-null    int64  \n",
      " 2   Sexo                 298 non-null    object \n",
      " 3   PDT Lenguaje         298 non-null    int64  \n",
      " 4   PDT Matemáticas      298 non-null    int64  \n",
      " 5   XPDT                 298 non-null    float64\n",
      " 6   Promedio Final IVM   298 non-null    float64\n",
      " 7   Asistencia IVM       298 non-null    int64  \n",
      " 8   LEN IVM              298 non-null    float64\n",
      " 9   INGIVM               218 non-null    float64\n",
      " 10  MAtIVM               298 non-null    float64\n",
      " 11  HIAIVM               218 non-null    float64\n",
      " 12  FILIVM               218 non-null    float64\n",
      " 13  FETIVM               218 non-null    float64\n",
      " 14  BIOIVM               218 non-null    float64\n",
      " 15  FISQUMIVM            217 non-null    float64\n",
      " 16  AVIVM                135 non-null    float64\n",
      " 17  AMIV                 83 non-null     float64\n",
      " 18  EFIVM                218 non-null    float64\n",
      " 19  ELECTIVO1IV          298 non-null    float64\n",
      " 20  ELECTIVO2IV          297 non-null    float64\n",
      " 21  Promedio Final IIIM  298 non-null    float64\n",
      " 22  Asistencia IIIM      298 non-null    int64  \n",
      " 23  LEN IIIM             298 non-null    float64\n",
      " 24  INGIIIM              298 non-null    float64\n",
      " 25  MAtIIIM              298 non-null    float64\n",
      " 26  HIAIIIM              298 non-null    float64\n",
      " 27  FILIIIM              298 non-null    float64\n",
      " 28  FETIIIM              298 non-null    float64\n",
      " 29  BIOIIIM              298 non-null    float64\n",
      " 30  FISQUMIIIM           298 non-null    float64\n",
      " 31  ARTIIIM              298 non-null    float64\n",
      " 32  EFIIIIM              298 non-null    float64\n",
      " 33  ELECTIVO1III         298 non-null    float64\n",
      " 34  ELECTIVO2III         298 non-null    float64\n",
      " 35  Promedio Final IIM   298 non-null    float64\n",
      " 36  Asistencia IIM       298 non-null    int64  \n",
      " 37  LENIIM               298 non-null    float64\n",
      " 38  INGIIM               298 non-null    float64\n",
      " 39  MAtIIM               298 non-null    float64\n",
      " 40  HIAIIM               298 non-null    float64\n",
      " 41  FETIIM               298 non-null    float64\n",
      " 42  BIOIIM               298 non-null    float64\n",
      " 43  FISIIM               298 non-null    float64\n",
      " 44  QUIMIIM              298 non-null    float64\n",
      " 45  AVMIIM               298 non-null    float64\n",
      " 46  TECIIM               298 non-null    float64\n",
      " 47  EFIiIM               298 non-null    float64\n",
      " 48  Promedio Final IM    298 non-null    float64\n",
      " 49  Asistencia IM        298 non-null    int64  \n",
      " 50  LENIM                298 non-null    float64\n",
      " 51  INGIM                298 non-null    float64\n",
      " 52  MAtIM                298 non-null    float64\n",
      " 53  HIAIM                298 non-null    float64\n",
      " 54  FETIM                248 non-null    float64\n",
      " 55  BIOIM                298 non-null    float64\n",
      " 56  FISIM                298 non-null    float64\n",
      " 57  QUIMIM               298 non-null    float64\n",
      " 58  ARTIM                297 non-null    float64\n",
      " 59  TECIM                298 non-null    float64\n",
      " 60  EFIiM                298 non-null    float64\n",
      "dtypes: float64(52), int64(7), object(2)\n",
      "memory usage: 142.1+ KB\n"
     ]
    }
   ],
   "source": [
    "df.info()"
   ]
  },
  {
   "cell_type": "code",
   "execution_count": 9,
   "id": "de4a0331",
   "metadata": {},
   "outputs": [],
   "source": [
    "df['promedio matematicas'] = df[['MAtIVM', 'MAtIIIM','MAtIIM','MAtIM']].mean(axis=1)"
   ]
  },
  {
   "cell_type": "code",
   "execution_count": 10,
   "id": "8a6a51ec",
   "metadata": {},
   "outputs": [],
   "source": [
    "df['promedio matematicas I y II'] = df[['MAtIIM','MAtIM']].mean(axis=1)"
   ]
  },
  {
   "cell_type": "code",
   "execution_count": 11,
   "id": "a800aaf7",
   "metadata": {},
   "outputs": [
    {
     "data": {
      "text/plain": [
       "(298, 1)"
      ]
     },
     "execution_count": 11,
     "metadata": {},
     "output_type": "execute_result"
    }
   ],
   "source": [
    "Z = df['MAtIVM'].to_numpy()\n",
    "Z = Z.reshape(-1,1)\n",
    "Z.shape"
   ]
  },
  {
   "cell_type": "code",
   "execution_count": 12,
   "id": "c60b4099",
   "metadata": {},
   "outputs": [
    {
     "data": {
      "text/plain": [
       "(298,)"
      ]
     },
     "execution_count": 12,
     "metadata": {},
     "output_type": "execute_result"
    }
   ],
   "source": [
    "y = df['PDT Matemáticas'].to_numpy()\n",
    "y.shape"
   ]
  },
  {
   "cell_type": "code",
   "execution_count": 13,
   "id": "7afa36c2",
   "metadata": {},
   "outputs": [
    {
     "data": {
      "image/png": "[encoded data removed]",
      "text/plain": [
       "<Figure size 432x288 with 1 Axes>"
      ]
     },
     "metadata": {
      "needs_background": "light"
     },
     "output_type": "display_data"
    }
   ],
   "source": [
    "plt.figure()\n",
    "plt.scatter(Z,y, alpha=0.3, color='g')\n",
    "plt.xlabel('Promedio Matemática Media')\n",
    "plt.ylabel('Puntaje PSU Matemáticas')\n",
    "plt.show()"
   ]
  },
  {
   "cell_type": "code",
   "execution_count": 14,
   "id": "bd466fd2",
   "metadata": {},
   "outputs": [
    {
     "data": {
      "text/plain": [
       "(298, 1)"
      ]
     },
     "execution_count": 14,
     "metadata": {},
     "output_type": "execute_result"
    }
   ],
   "source": [
    "Z2 = df['MAtIIM'].to_numpy()\n",
    "Z2 = Z2.reshape(-1,1)\n",
    "Z2.shape"
   ]
  },
  {
   "cell_type": "code",
   "execution_count": 15,
   "id": "9d96ca88",
   "metadata": {},
   "outputs": [
    {
     "data": {
      "text/plain": [
       "(298, 1)"
      ]
     },
     "execution_count": 15,
     "metadata": {},
     "output_type": "execute_result"
    }
   ],
   "source": [
    "Z3 = df['MAtIM'].to_numpy()\n",
    "Z3 = Z3.reshape(-1,1)\n",
    "Z3.shape"
   ]
  },
  {
   "cell_type": "code",
   "execution_count": 16,
   "id": "d4074d66",
   "metadata": {},
   "outputs": [
    {
     "data": {
      "text/plain": [
       "(298, 1)"
      ]
     },
     "execution_count": 16,
     "metadata": {},
     "output_type": "execute_result"
    }
   ],
   "source": [
    "Z4 = df['MAtIIIM'].to_numpy()\n",
    "Z4 = Z4.reshape(-1,1)\n",
    "Z4.shape"
   ]
  },
  {
   "cell_type": "code",
   "execution_count": 17,
   "id": "586a9a08",
   "metadata": {},
   "outputs": [
    {
     "data": {
      "text/plain": [
       "(18774, 1)"
      ]
     },
     "execution_count": 17,
     "metadata": {},
     "output_type": "execute_result"
    }
   ],
   "source": [
    "Zn = df.to_numpy()\n",
    "Zn = Zn.reshape(-1,1)\n",
    "Zn.shape"
   ]
  },
  {
   "cell_type": "code",
   "execution_count": 18,
   "id": "d2df9c78",
   "metadata": {},
   "outputs": [
    {
     "data": {
      "image/png": "[encoded data removed]",
      "text/plain": [
       "<Figure size 432x288 with 1 Axes>"
      ]
     },
     "metadata": {
      "needs_background": "light"
     },
     "output_type": "display_data"
    }
   ],
   "source": [
    "plt.figure()\n",
    "plt.scatter(Z3,y, alpha=0.3, color='red', label='I Medio')\n",
    "plt.scatter(Z2,y, alpha=0.3, color='green', label='II Medio')\n",
    "plt.scatter(Z4,y, alpha=0.3, color='pink', label='III Medio')\n",
    "plt.scatter(Z,y, alpha=0.3, color='blue', label='IV Medio')\n",
    "plt.legend()\n",
    "plt.xlabel('Promedio Matematicas de I a IV Medio')\n",
    "plt.ylabel('Puntaje PSU Matemáticas')\n",
    "plt.show()"
   ]
  },
  {
   "cell_type": "code",
   "execution_count": 19,
   "id": "2f0b9fcb",
   "metadata": {},
   "outputs": [
    {
     "data": {
      "text/html": [
       "<div>\n",
       "<style scoped>\n",
       "    .dataframe tbody tr th:only-of-type {\n",
       "        vertical-align: middle;\n",
       "    }\n",
       "\n",
       "    .dataframe tbody tr th {\n",
       "        vertical-align: top;\n",
       "    }\n",
       "\n",
       "    .dataframe thead th {\n",
       "        text-align: right;\n",
       "    }\n",
       "</style>\n",
       "<table border=\"1\" class=\"dataframe\">\n",
       "  <thead>\n",
       "    <tr style=\"text-align: right;\">\n",
       "      <th></th>\n",
       "      <th>Generación</th>\n",
       "      <th>PDT Lenguaje</th>\n",
       "      <th>PDT Matemáticas</th>\n",
       "      <th>XPDT</th>\n",
       "      <th>Promedio Final IVM</th>\n",
       "      <th>Asistencia IVM</th>\n",
       "      <th>LEN IVM</th>\n",
       "      <th>INGIVM</th>\n",
       "      <th>MAtIVM</th>\n",
       "      <th>HIAIVM</th>\n",
       "      <th>...</th>\n",
       "      <th>HIAIM</th>\n",
       "      <th>FETIM</th>\n",
       "      <th>BIOIM</th>\n",
       "      <th>FISIM</th>\n",
       "      <th>QUIMIM</th>\n",
       "      <th>ARTIM</th>\n",
       "      <th>TECIM</th>\n",
       "      <th>EFIiM</th>\n",
       "      <th>promedio matematicas</th>\n",
       "      <th>promedio matematicas I y II</th>\n",
       "    </tr>\n",
       "  </thead>\n",
       "  <tbody>\n",
       "    <tr>\n",
       "      <th>count</th>\n",
       "      <td>298.000000</td>\n",
       "      <td>298.000000</td>\n",
       "      <td>298.000000</td>\n",
       "      <td>298.000000</td>\n",
       "      <td>298.000000</td>\n",
       "      <td>298.000000</td>\n",
       "      <td>298.000000</td>\n",
       "      <td>218.000000</td>\n",
       "      <td>298.000000</td>\n",
       "      <td>218.000000</td>\n",
       "      <td>...</td>\n",
       "      <td>298.000000</td>\n",
       "      <td>248.000000</td>\n",
       "      <td>298.000000</td>\n",
       "      <td>298.000000</td>\n",
       "      <td>298.000000</td>\n",
       "      <td>297.000000</td>\n",
       "      <td>298.000000</td>\n",
       "      <td>298.000000</td>\n",
       "      <td>298.000000</td>\n",
       "      <td>298.000000</td>\n",
       "    </tr>\n",
       "    <tr>\n",
       "      <th>mean</th>\n",
       "      <td>2018.194631</td>\n",
       "      <td>613.016779</td>\n",
       "      <td>630.687919</td>\n",
       "      <td>621.852349</td>\n",
       "      <td>6.298322</td>\n",
       "      <td>95.338926</td>\n",
       "      <td>5.988255</td>\n",
       "      <td>6.138991</td>\n",
       "      <td>5.647651</td>\n",
       "      <td>6.038073</td>\n",
       "      <td>...</td>\n",
       "      <td>5.578523</td>\n",
       "      <td>6.026210</td>\n",
       "      <td>5.799664</td>\n",
       "      <td>5.487248</td>\n",
       "      <td>5.944295</td>\n",
       "      <td>6.589899</td>\n",
       "      <td>6.340604</td>\n",
       "      <td>6.746309</td>\n",
       "      <td>5.475419</td>\n",
       "      <td>5.429530</td>\n",
       "    </tr>\n",
       "    <tr>\n",
       "      <th>std</th>\n",
       "      <td>1.440996</td>\n",
       "      <td>86.654873</td>\n",
       "      <td>98.850633</td>\n",
       "      <td>79.923564</td>\n",
       "      <td>0.463442</td>\n",
       "      <td>4.768997</td>\n",
       "      <td>0.604609</td>\n",
       "      <td>0.738346</td>\n",
       "      <td>1.136216</td>\n",
       "      <td>0.571738</td>\n",
       "      <td>...</td>\n",
       "      <td>0.581194</td>\n",
       "      <td>0.705099</td>\n",
       "      <td>0.731011</td>\n",
       "      <td>0.722909</td>\n",
       "      <td>0.690180</td>\n",
       "      <td>0.444826</td>\n",
       "      <td>0.502313</td>\n",
       "      <td>0.307269</td>\n",
       "      <td>0.915227</td>\n",
       "      <td>0.889473</td>\n",
       "    </tr>\n",
       "    <tr>\n",
       "      <th>min</th>\n",
       "      <td>2016.000000</td>\n",
       "      <td>301.000000</td>\n",
       "      <td>221.000000</td>\n",
       "      <td>305.000000</td>\n",
       "      <td>4.800000</td>\n",
       "      <td>77.000000</td>\n",
       "      <td>4.200000</td>\n",
       "      <td>3.700000</td>\n",
       "      <td>2.400000</td>\n",
       "      <td>4.300000</td>\n",
       "      <td>...</td>\n",
       "      <td>4.200000</td>\n",
       "      <td>4.000000</td>\n",
       "      <td>3.400000</td>\n",
       "      <td>3.300000</td>\n",
       "      <td>4.100000</td>\n",
       "      <td>4.900000</td>\n",
       "      <td>4.000000</td>\n",
       "      <td>4.000000</td>\n",
       "      <td>3.075000</td>\n",
       "      <td>2.850000</td>\n",
       "    </tr>\n",
       "    <tr>\n",
       "      <th>25%</th>\n",
       "      <td>2017.000000</td>\n",
       "      <td>562.250000</td>\n",
       "      <td>577.250000</td>\n",
       "      <td>581.625000</td>\n",
       "      <td>6.000000</td>\n",
       "      <td>93.000000</td>\n",
       "      <td>5.600000</td>\n",
       "      <td>5.600000</td>\n",
       "      <td>4.700000</td>\n",
       "      <td>5.600000</td>\n",
       "      <td>...</td>\n",
       "      <td>5.100000</td>\n",
       "      <td>5.700000</td>\n",
       "      <td>5.300000</td>\n",
       "      <td>4.925000</td>\n",
       "      <td>5.425000</td>\n",
       "      <td>6.400000</td>\n",
       "      <td>6.100000</td>\n",
       "      <td>6.700000</td>\n",
       "      <td>4.781250</td>\n",
       "      <td>4.700000</td>\n",
       "    </tr>\n",
       "    <tr>\n",
       "      <th>50%</th>\n",
       "      <td>2018.000000</td>\n",
       "      <td>620.000000</td>\n",
       "      <td>633.000000</td>\n",
       "      <td>628.500000</td>\n",
       "      <td>6.400000</td>\n",
       "      <td>97.000000</td>\n",
       "      <td>6.100000</td>\n",
       "      <td>6.400000</td>\n",
       "      <td>5.900000</td>\n",
       "      <td>6.100000</td>\n",
       "      <td>...</td>\n",
       "      <td>5.600000</td>\n",
       "      <td>6.100000</td>\n",
       "      <td>5.900000</td>\n",
       "      <td>5.500000</td>\n",
       "      <td>6.000000</td>\n",
       "      <td>6.700000</td>\n",
       "      <td>6.400000</td>\n",
       "      <td>6.800000</td>\n",
       "      <td>5.525000</td>\n",
       "      <td>5.450000</td>\n",
       "    </tr>\n",
       "    <tr>\n",
       "      <th>75%</th>\n",
       "      <td>2020.000000</td>\n",
       "      <td>669.000000</td>\n",
       "      <td>702.750000</td>\n",
       "      <td>673.500000</td>\n",
       "      <td>6.700000</td>\n",
       "      <td>100.000000</td>\n",
       "      <td>6.500000</td>\n",
       "      <td>6.700000</td>\n",
       "      <td>6.700000</td>\n",
       "      <td>6.475000</td>\n",
       "      <td>...</td>\n",
       "      <td>6.100000</td>\n",
       "      <td>6.500000</td>\n",
       "      <td>6.400000</td>\n",
       "      <td>6.100000</td>\n",
       "      <td>6.500000</td>\n",
       "      <td>6.900000</td>\n",
       "      <td>6.700000</td>\n",
       "      <td>6.900000</td>\n",
       "      <td>6.225000</td>\n",
       "      <td>6.150000</td>\n",
       "    </tr>\n",
       "    <tr>\n",
       "      <th>max</th>\n",
       "      <td>2020.000000</td>\n",
       "      <td>802.000000</td>\n",
       "      <td>850.000000</td>\n",
       "      <td>797.500000</td>\n",
       "      <td>7.000000</td>\n",
       "      <td>100.000000</td>\n",
       "      <td>6.900000</td>\n",
       "      <td>7.000000</td>\n",
       "      <td>7.000000</td>\n",
       "      <td>7.000000</td>\n",
       "      <td>...</td>\n",
       "      <td>6.800000</td>\n",
       "      <td>7.000000</td>\n",
       "      <td>7.000000</td>\n",
       "      <td>7.000000</td>\n",
       "      <td>7.000000</td>\n",
       "      <td>7.000000</td>\n",
       "      <td>7.000000</td>\n",
       "      <td>7.000000</td>\n",
       "      <td>7.000000</td>\n",
       "      <td>7.000000</td>\n",
       "    </tr>\n",
       "  </tbody>\n",
       "</table>\n",
       "<p>8 rows × 61 columns</p>\n",
       "</div>"
      ],
      "text/plain": [
       "        Generación  PDT Lenguaje  PDT Matemáticas        XPDT  \\\n",
       "count   298.000000    298.000000       298.000000  298.000000   \n",
       "mean   2018.194631    613.016779       630.687919  621.852349   \n",
       "std       1.440996     86.654873        98.850633   79.923564   \n",
       "min    2016.000000    301.000000       221.000000  305.000000   \n",
       "25%    2017.000000    562.250000       577.250000  581.625000   \n",
       "50%    2018.000000    620.000000       633.000000  628.500000   \n",
       "75%    2020.000000    669.000000       702.750000  673.500000   \n",
       "max    2020.000000    802.000000       850.000000  797.500000   \n",
       "\n",
       "       Promedio Final IVM  Asistencia IVM     LEN IVM      INGIVM      MAtIVM  \\\n",
       "count          298.000000      298.000000  298.000000  218.000000  298.000000   \n",
       "mean             6.298322       95.338926    5.988255    6.138991    5.647651   \n",
       "std              0.463442        4.768997    0.604609    0.738346    1.136216   \n",
       "min              4.800000       77.000000    4.200000    3.700000    2.400000   \n",
       "25%              6.000000       93.000000    5.600000    5.600000    4.700000   \n",
       "50%              6.400000       97.000000    6.100000    6.400000    5.900000   \n",
       "75%              6.700000      100.000000    6.500000    6.700000    6.700000   \n",
       "max              7.000000      100.000000    6.900000    7.000000    7.000000   \n",
       "\n",
       "           HIAIVM  ...       HIAIM       FETIM       BIOIM       FISIM  \\\n",
       "count  218.000000  ...  298.000000  248.000000  298.000000  298.000000   \n",
       "mean     6.038073  ...    5.578523    6.026210    5.799664    5.487248   \n",
       "std      0.571738  ...    0.581194    0.705099    0.731011    0.722909   \n",
       "min      4.300000  ...    4.200000    4.000000    3.400000    3.300000   \n",
       "25%      5.600000  ...    5.100000    5.700000    5.300000    4.925000   \n",
       "50%      6.100000  ...    5.600000    6.100000    5.900000    5.500000   \n",
       "75%      6.475000  ...    6.100000    6.500000    6.400000    6.100000   \n",
       "max      7.000000  ...    6.800000    7.000000    7.000000    7.000000   \n",
       "\n",
       "           QUIMIM       ARTIM       TECIM       EFIiM  promedio matematicas  \\\n",
       "count  298.000000  297.000000  298.000000  298.000000            298.000000   \n",
       "mean     5.944295    6.589899    6.340604    6.746309              5.475419   \n",
       "std      0.690180    0.444826    0.502313    0.307269              0.915227   \n",
       "min      4.100000    4.900000    4.000000    4.000000              3.075000   \n",
       "25%      5.425000    6.400000    6.100000    6.700000              4.781250   \n",
       "50%      6.000000    6.700000    6.400000    6.800000              5.525000   \n",
       "75%      6.500000    6.900000    6.700000    6.900000              6.225000   \n",
       "max      7.000000    7.000000    7.000000    7.000000              7.000000   \n",
       "\n",
       "       promedio matematicas I y II  \n",
       "count                   298.000000  \n",
       "mean                      5.429530  \n",
       "std                       0.889473  \n",
       "min                       2.850000  \n",
       "25%                       4.700000  \n",
       "50%                       5.450000  \n",
       "75%                       6.150000  \n",
       "max                       7.000000  \n",
       "\n",
       "[8 rows x 61 columns]"
      ]
     },
     "execution_count": 19,
     "metadata": {},
     "output_type": "execute_result"
    }
   ],
   "source": [
    "df.describe()"
   ]
  },
  {
   "cell_type": "code",
   "execution_count": 20,
   "id": "acc16079",
   "metadata": {},
   "outputs": [
    {
     "ename": "SyntaxError",
     "evalue": "invalid syntax (<ipython-input-20-d57412e93573>, line 13)",
     "output_type": "error",
     "traceback": [
      "\u001b[0;36m  File \u001b[0;32m\"<ipython-input-20-d57412e93573>\"\u001b[0;36m, line \u001b[0;32m13\u001b[0m\n\u001b[0;31m    3dfn4 = pd.DataFrame.from_dict(d, orient='index').reset_index()\u001b[0m\n\u001b[0m     ^\u001b[0m\n\u001b[0;31mSyntaxError\u001b[0m\u001b[0;31m:\u001b[0m invalid syntax\n"
     ]
    }
   ],
   "source": [
    "from collections import Counter\n",
    "Y2=df['MAtIM'].to_list()\n",
    "d=Counter(Y2)\n",
    "dfn1 = pd.DataFrame.from_dict(d, orient='index').reset_index()\n",
    "Y3=df['MAtIIM'].to_list()\n",
    "d=Counter(Y3)\n",
    "dfn2 = pd.DataFrame.from_dict(d, orient='index').reset_index()\n",
    "Y4=df['MAtIIIM'].to_list()\n",
    "d=Counter(Y4)\n",
    "dfn3 = pd.DataFrame.from_dict(d, orient='index').reset_index()\n",
    "Y5=df['MAtIVM'].to_list()\n",
    "d=Counter(Y5)\n",
    "3dfn4 = pd.DataFrame.from_dict(d, orient='index').reset_index()\n",
    "3df['INGIVM'].isnull().sum()"
   ]
  },
  {
   "cell_type": "code",
   "execution_count": 21,
   "id": "81b76c71",
   "metadata": {},
   "outputs": [
    {
     "ename": "NameError",
     "evalue": "name 'dfn1' is not defined",
     "output_type": "error",
     "traceback": [
      "\u001b[0;31m---------------------------------------------------------------------------\u001b[0m",
      "\u001b[0;31mNameError\u001b[0m                                 Traceback (most recent call last)",
      "\u001b[0;32m<ipython-input-21-f2fb147027ed>\u001b[0m in \u001b[0;36m<module>\u001b[0;34m\u001b[0m\n\u001b[1;32m      1\u001b[0m \u001b[0mplt\u001b[0m\u001b[0;34m.\u001b[0m\u001b[0msubplot\u001b[0m\u001b[0;34m(\u001b[0m\u001b[0;36m3\u001b[0m\u001b[0;34m,\u001b[0m\u001b[0;36m2\u001b[0m\u001b[0;34m,\u001b[0m\u001b[0;36m1\u001b[0m\u001b[0;34m)\u001b[0m\u001b[0;34m\u001b[0m\u001b[0;34m\u001b[0m\u001b[0m\n\u001b[0;32m----> 2\u001b[0;31m \u001b[0mplt\u001b[0m\u001b[0;34m.\u001b[0m\u001b[0mbar\u001b[0m\u001b[0;34m(\u001b[0m\u001b[0mdfn1\u001b[0m\u001b[0;34m[\u001b[0m\u001b[0;34m'index'\u001b[0m\u001b[0;34m]\u001b[0m\u001b[0;34m,\u001b[0m\u001b[0mdfn1\u001b[0m\u001b[0;34m[\u001b[0m\u001b[0;36m0\u001b[0m\u001b[0;34m]\u001b[0m\u001b[0;34m)\u001b[0m\u001b[0;34m\u001b[0m\u001b[0;34m\u001b[0m\u001b[0m\n\u001b[0m\u001b[1;32m      3\u001b[0m \u001b[0mplt\u001b[0m\u001b[0;34m.\u001b[0m\u001b[0mxlabel\u001b[0m\u001b[0;34m(\u001b[0m\u001b[0;34m'I Medio'\u001b[0m\u001b[0;34m)\u001b[0m\u001b[0;34m\u001b[0m\u001b[0;34m\u001b[0m\u001b[0m\n\u001b[1;32m      4\u001b[0m \u001b[0mplt\u001b[0m\u001b[0;34m.\u001b[0m\u001b[0msubplot\u001b[0m\u001b[0;34m(\u001b[0m\u001b[0;36m3\u001b[0m\u001b[0;34m,\u001b[0m\u001b[0;36m2\u001b[0m\u001b[0;34m,\u001b[0m\u001b[0;36m2\u001b[0m\u001b[0;34m)\u001b[0m\u001b[0;34m\u001b[0m\u001b[0;34m\u001b[0m\u001b[0m\n\u001b[1;32m      5\u001b[0m \u001b[0mplt\u001b[0m\u001b[0;34m.\u001b[0m\u001b[0mbar\u001b[0m\u001b[0;34m(\u001b[0m\u001b[0mdfn2\u001b[0m\u001b[0;34m[\u001b[0m\u001b[0;34m'index'\u001b[0m\u001b[0;34m]\u001b[0m\u001b[0;34m,\u001b[0m\u001b[0mdfn2\u001b[0m\u001b[0;34m[\u001b[0m\u001b[0;36m0\u001b[0m\u001b[0;34m]\u001b[0m\u001b[0;34m)\u001b[0m\u001b[0;34m\u001b[0m\u001b[0;34m\u001b[0m\u001b[0m\n",
      "\u001b[0;31mNameError\u001b[0m: name 'dfn1' is not defined"
     ]
    },
    {
     "data": {
      "image/png": "[encoded data removed]",
      "text/plain": [
       "<Figure size 432x288 with 1 Axes>"
      ]
     },
     "metadata": {
      "needs_background": "light"
     },
     "output_type": "display_data"
    }
   ],
   "source": [
    "plt.subplot(3,2,1)\n",
    "plt.bar(dfn1['index'],dfn1[0])\n",
    "plt.xlabel('I Medio')\n",
    "plt.subplot(3,2,2)\n",
    "plt.bar(dfn2['index'],dfn2[0])\n",
    "plt.xlabel('II Medio')\n",
    "plt.subplot(3,2,5)\n",
    "plt.bar(dfn3['index'],dfn3[0])\n",
    "plt.xlabel('III Medio')\n",
    "plt.subplot(3,2,6)\n",
    "plt.bar(dfn4['index'],dfn4[0])\n",
    "plt.xlabel('IV Medio')\n",
    "plt.show()\n",
    "\n"
   ]
  },
  {
   "cell_type": "code",
   "execution_count": 22,
   "id": "f76bbd29",
   "metadata": {},
   "outputs": [],
   "source": [
    "from sklearn.model_selection import train_test_split\n",
    "df = df.fillna(0)\n",
    "X = df.drop('PDT Matemáticas',axis=1)\n",
    "X= X.drop('Estudiante',axis=1)\n",
    "X= X.drop('Sexo',axis=1)\n",
    "X = X.drop('PDT Lenguaje',axis=1)\n",
    "X = X.drop ('XPDT',axis=1)\n",
    "X_train, X_test, y_train, y_test = train_test_split(X, y,            # Datos y etiquetas \n",
    "                                                    test_size=0.3,   # Proporción del dataset que será del conjunto de test\n",
    "                                                    random_state=42) # Controla el shuffle de los datos antes de hacer el split"
   ]
  },
  {
   "cell_type": "code",
   "execution_count": 23,
   "id": "ff1328f3",
   "metadata": {},
   "outputs": [
    {
     "data": {
      "text/plain": [
       "LinearRegression()"
      ]
     },
     "execution_count": 23,
     "metadata": {},
     "output_type": "execute_result"
    }
   ],
   "source": [
    "from sklearn.linear_model import LinearRegression\n",
    "\n",
    "lin_reg = LinearRegression()\n",
    "lin_reg.fit(X_train, y_train)"
   ]
  },
  {
   "cell_type": "code",
   "execution_count": 24,
   "id": "0641ea8a",
   "metadata": {},
   "outputs": [
    {
     "ename": "ValueError",
     "evalue": "The truth value of a Series is ambiguous. Use a.empty, a.bool(), a.item(), a.any() or a.all().",
     "output_type": "error",
     "traceback": [
      "\u001b[0;31m---------------------------------------------------------------------------\u001b[0m",
      "\u001b[0;31mValueError\u001b[0m                                Traceback (most recent call last)",
      "\u001b[0;32m<ipython-input-24-137c587ed87d>\u001b[0m in \u001b[0;36m<module>\u001b[0;34m\u001b[0m\n\u001b[0;32m----> 1\u001b[0;31m \u001b[0mtest_X\u001b[0m \u001b[0;34m=\u001b[0m \u001b[0mnp\u001b[0m\u001b[0;34m.\u001b[0m\u001b[0marange\u001b[0m\u001b[0;34m(\u001b[0m\u001b[0mX\u001b[0m\u001b[0;34m.\u001b[0m\u001b[0mmin\u001b[0m\u001b[0;34m(\u001b[0m\u001b[0;34m)\u001b[0m\u001b[0;34m,\u001b[0m\u001b[0mX\u001b[0m\u001b[0;34m.\u001b[0m\u001b[0mmax\u001b[0m\u001b[0;34m(\u001b[0m\u001b[0;34m)\u001b[0m\u001b[0;34m)\u001b[0m\u001b[0;34m\u001b[0m\u001b[0;34m\u001b[0m\u001b[0m\n\u001b[0m\u001b[1;32m      2\u001b[0m \u001b[0mtest_X\u001b[0m\u001b[0;34m.\u001b[0m\u001b[0mshape\u001b[0m\u001b[0;34m\u001b[0m\u001b[0;34m\u001b[0m\u001b[0m\n",
      "\u001b[0;32m/opt/anaconda3/lib/python3.8/site-packages/pandas/core/generic.py\u001b[0m in \u001b[0;36m__nonzero__\u001b[0;34m(self)\u001b[0m\n\u001b[1;32m   1440\u001b[0m     \u001b[0;34m@\u001b[0m\u001b[0mfinal\u001b[0m\u001b[0;34m\u001b[0m\u001b[0;34m\u001b[0m\u001b[0m\n\u001b[1;32m   1441\u001b[0m     \u001b[0;32mdef\u001b[0m \u001b[0m__nonzero__\u001b[0m\u001b[0;34m(\u001b[0m\u001b[0mself\u001b[0m\u001b[0;34m)\u001b[0m\u001b[0;34m:\u001b[0m\u001b[0;34m\u001b[0m\u001b[0;34m\u001b[0m\u001b[0m\n\u001b[0;32m-> 1442\u001b[0;31m         raise ValueError(\n\u001b[0m\u001b[1;32m   1443\u001b[0m             \u001b[0;34mf\"The truth value of a {type(self).__name__} is ambiguous. \"\u001b[0m\u001b[0;34m\u001b[0m\u001b[0;34m\u001b[0m\u001b[0m\n\u001b[1;32m   1444\u001b[0m             \u001b[0;34m\"Use a.empty, a.bool(), a.item(), a.any() or a.all().\"\u001b[0m\u001b[0;34m\u001b[0m\u001b[0;34m\u001b[0m\u001b[0m\n",
      "\u001b[0;31mValueError\u001b[0m: The truth value of a Series is ambiguous. Use a.empty, a.bool(), a.item(), a.any() or a.all()."
     ]
    }
   ],
   "source": [
    "test_X = np.arange(X.min(),X.max())\n",
    "test_X.shape"
   ]
  },
  {
   "cell_type": "code",
   "execution_count": null,
   "id": "15ba0ad1",
   "metadata": {},
   "outputs": [],
   "source": []
  },
  {
   "cell_type": "code",
   "execution_count": 25,
   "id": "0916c6b6",
   "metadata": {},
   "outputs": [
    {
     "data": {
      "text/plain": [
       "(90,)"
      ]
     },
     "execution_count": 25,
     "metadata": {},
     "output_type": "execute_result"
    }
   ],
   "source": [
    "y_pred = lin_reg.predict(X_test)\n",
    "y_pred.shape"
   ]
  },
  {
   "cell_type": "code",
   "execution_count": 26,
   "id": "07200c74",
   "metadata": {},
   "outputs": [
    {
     "ename": "ValueError",
     "evalue": "x and y must be the same size",
     "output_type": "error",
     "traceback": [
      "\u001b[0;31m---------------------------------------------------------------------------\u001b[0m",
      "\u001b[0;31mValueError\u001b[0m                                Traceback (most recent call last)",
      "\u001b[0;32m<ipython-input-26-f55a07c0bbcc>\u001b[0m in \u001b[0;36m<module>\u001b[0;34m\u001b[0m\n\u001b[1;32m      1\u001b[0m \u001b[0mplt\u001b[0m\u001b[0;34m.\u001b[0m\u001b[0mfigure\u001b[0m\u001b[0;34m(\u001b[0m\u001b[0;34m)\u001b[0m\u001b[0;34m\u001b[0m\u001b[0;34m\u001b[0m\u001b[0m\n\u001b[0;32m----> 2\u001b[0;31m \u001b[0mplt\u001b[0m\u001b[0;34m.\u001b[0m\u001b[0mscatter\u001b[0m\u001b[0;34m(\u001b[0m\u001b[0mX\u001b[0m\u001b[0;34m,\u001b[0m\u001b[0my\u001b[0m\u001b[0;34m,\u001b[0m \u001b[0malpha\u001b[0m\u001b[0;34m=\u001b[0m\u001b[0;36m0.2\u001b[0m\u001b[0;34m)\u001b[0m\u001b[0;34m\u001b[0m\u001b[0;34m\u001b[0m\u001b[0m\n\u001b[0m\u001b[1;32m      3\u001b[0m \u001b[0mplt\u001b[0m\u001b[0;34m.\u001b[0m\u001b[0mplot\u001b[0m\u001b[0;34m(\u001b[0m\u001b[0mtest_X\u001b[0m\u001b[0;34m,\u001b[0m \u001b[0my_pred\u001b[0m\u001b[0;34m,\u001b[0m \u001b[0mcolor\u001b[0m\u001b[0;34m=\u001b[0m\u001b[0;34m'red'\u001b[0m\u001b[0;34m,\u001b[0m \u001b[0mlinewidth\u001b[0m\u001b[0;34m=\u001b[0m\u001b[0;36m2\u001b[0m\u001b[0;34m,\u001b[0m \u001b[0malpha\u001b[0m\u001b[0;34m=\u001b[0m\u001b[0;36m0.7\u001b[0m\u001b[0;34m)\u001b[0m\u001b[0;34m\u001b[0m\u001b[0;34m\u001b[0m\u001b[0m\n\u001b[1;32m      4\u001b[0m \u001b[0mplt\u001b[0m\u001b[0;34m.\u001b[0m\u001b[0mscatter\u001b[0m\u001b[0;34m(\u001b[0m\u001b[0mtest_X\u001b[0m\u001b[0;34m,\u001b[0m \u001b[0my_pred\u001b[0m\u001b[0;34m,\u001b[0m \u001b[0mcolor\u001b[0m\u001b[0;34m=\u001b[0m\u001b[0;34m'r'\u001b[0m\u001b[0;34m,\u001b[0m \u001b[0ms\u001b[0m\u001b[0;34m=\u001b[0m\u001b[0;36m100\u001b[0m\u001b[0;34m,\u001b[0m \u001b[0mmarker\u001b[0m\u001b[0;34m=\u001b[0m\u001b[0;34m'*'\u001b[0m\u001b[0;34m)\u001b[0m\u001b[0;34m\u001b[0m\u001b[0;34m\u001b[0m\u001b[0m\n\u001b[1;32m      5\u001b[0m \u001b[0mplt\u001b[0m\u001b[0;34m.\u001b[0m\u001b[0mshow\u001b[0m\u001b[0;34m(\u001b[0m\u001b[0;34m)\u001b[0m\u001b[0;34m\u001b[0m\u001b[0;34m\u001b[0m\u001b[0m\n",
      "\u001b[0;32m/opt/anaconda3/lib/python3.8/site-packages/matplotlib/pyplot.py\u001b[0m in \u001b[0;36mscatter\u001b[0;34m(x, y, s, c, marker, cmap, norm, vmin, vmax, alpha, linewidths, verts, edgecolors, plotnonfinite, data, **kwargs)\u001b[0m\n\u001b[1;32m   2888\u001b[0m         \u001b[0mverts\u001b[0m\u001b[0;34m=\u001b[0m\u001b[0mcbook\u001b[0m\u001b[0;34m.\u001b[0m\u001b[0mdeprecation\u001b[0m\u001b[0;34m.\u001b[0m\u001b[0m_deprecated_parameter\u001b[0m\u001b[0;34m,\u001b[0m\u001b[0;34m\u001b[0m\u001b[0;34m\u001b[0m\u001b[0m\n\u001b[1;32m   2889\u001b[0m         edgecolors=None, *, plotnonfinite=False, data=None, **kwargs):\n\u001b[0;32m-> 2890\u001b[0;31m     __ret = gca().scatter(\n\u001b[0m\u001b[1;32m   2891\u001b[0m         \u001b[0mx\u001b[0m\u001b[0;34m,\u001b[0m \u001b[0my\u001b[0m\u001b[0;34m,\u001b[0m \u001b[0ms\u001b[0m\u001b[0;34m=\u001b[0m\u001b[0ms\u001b[0m\u001b[0;34m,\u001b[0m \u001b[0mc\u001b[0m\u001b[0;34m=\u001b[0m\u001b[0mc\u001b[0m\u001b[0;34m,\u001b[0m \u001b[0mmarker\u001b[0m\u001b[0;34m=\u001b[0m\u001b[0mmarker\u001b[0m\u001b[0;34m,\u001b[0m \u001b[0mcmap\u001b[0m\u001b[0;34m=\u001b[0m\u001b[0mcmap\u001b[0m\u001b[0;34m,\u001b[0m \u001b[0mnorm\u001b[0m\u001b[0;34m=\u001b[0m\u001b[0mnorm\u001b[0m\u001b[0;34m,\u001b[0m\u001b[0;34m\u001b[0m\u001b[0;34m\u001b[0m\u001b[0m\n\u001b[1;32m   2892\u001b[0m         \u001b[0mvmin\u001b[0m\u001b[0;34m=\u001b[0m\u001b[0mvmin\u001b[0m\u001b[0;34m,\u001b[0m \u001b[0mvmax\u001b[0m\u001b[0;34m=\u001b[0m\u001b[0mvmax\u001b[0m\u001b[0;34m,\u001b[0m \u001b[0malpha\u001b[0m\u001b[0;34m=\u001b[0m\u001b[0malpha\u001b[0m\u001b[0;34m,\u001b[0m \u001b[0mlinewidths\u001b[0m\u001b[0;34m=\u001b[0m\u001b[0mlinewidths\u001b[0m\u001b[0;34m,\u001b[0m\u001b[0;34m\u001b[0m\u001b[0;34m\u001b[0m\u001b[0m\n",
      "\u001b[0;32m/opt/anaconda3/lib/python3.8/site-packages/matplotlib/__init__.py\u001b[0m in \u001b[0;36minner\u001b[0;34m(ax, data, *args, **kwargs)\u001b[0m\n\u001b[1;32m   1445\u001b[0m     \u001b[0;32mdef\u001b[0m \u001b[0minner\u001b[0m\u001b[0;34m(\u001b[0m\u001b[0max\u001b[0m\u001b[0;34m,\u001b[0m \u001b[0;34m*\u001b[0m\u001b[0margs\u001b[0m\u001b[0;34m,\u001b[0m \u001b[0mdata\u001b[0m\u001b[0;34m=\u001b[0m\u001b[0;32mNone\u001b[0m\u001b[0;34m,\u001b[0m \u001b[0;34m**\u001b[0m\u001b[0mkwargs\u001b[0m\u001b[0;34m)\u001b[0m\u001b[0;34m:\u001b[0m\u001b[0;34m\u001b[0m\u001b[0;34m\u001b[0m\u001b[0m\n\u001b[1;32m   1446\u001b[0m         \u001b[0;32mif\u001b[0m \u001b[0mdata\u001b[0m \u001b[0;32mis\u001b[0m \u001b[0;32mNone\u001b[0m\u001b[0;34m:\u001b[0m\u001b[0;34m\u001b[0m\u001b[0;34m\u001b[0m\u001b[0m\n\u001b[0;32m-> 1447\u001b[0;31m             \u001b[0;32mreturn\u001b[0m \u001b[0mfunc\u001b[0m\u001b[0;34m(\u001b[0m\u001b[0max\u001b[0m\u001b[0;34m,\u001b[0m \u001b[0;34m*\u001b[0m\u001b[0mmap\u001b[0m\u001b[0;34m(\u001b[0m\u001b[0msanitize_sequence\u001b[0m\u001b[0;34m,\u001b[0m \u001b[0margs\u001b[0m\u001b[0;34m)\u001b[0m\u001b[0;34m,\u001b[0m \u001b[0;34m**\u001b[0m\u001b[0mkwargs\u001b[0m\u001b[0;34m)\u001b[0m\u001b[0;34m\u001b[0m\u001b[0;34m\u001b[0m\u001b[0m\n\u001b[0m\u001b[1;32m   1448\u001b[0m \u001b[0;34m\u001b[0m\u001b[0m\n\u001b[1;32m   1449\u001b[0m         \u001b[0mbound\u001b[0m \u001b[0;34m=\u001b[0m \u001b[0mnew_sig\u001b[0m\u001b[0;34m.\u001b[0m\u001b[0mbind\u001b[0m\u001b[0;34m(\u001b[0m\u001b[0max\u001b[0m\u001b[0;34m,\u001b[0m \u001b[0;34m*\u001b[0m\u001b[0margs\u001b[0m\u001b[0;34m,\u001b[0m \u001b[0;34m**\u001b[0m\u001b[0mkwargs\u001b[0m\u001b[0;34m)\u001b[0m\u001b[0;34m\u001b[0m\u001b[0;34m\u001b[0m\u001b[0m\n",
      "\u001b[0;32m/opt/anaconda3/lib/python3.8/site-packages/matplotlib/cbook/deprecation.py\u001b[0m in \u001b[0;36mwrapper\u001b[0;34m(*inner_args, **inner_kwargs)\u001b[0m\n\u001b[1;32m    409\u001b[0m                          \u001b[0;32melse\u001b[0m \u001b[0mdeprecation_addendum\u001b[0m\u001b[0;34m,\u001b[0m\u001b[0;34m\u001b[0m\u001b[0;34m\u001b[0m\u001b[0m\n\u001b[1;32m    410\u001b[0m                 **kwargs)\n\u001b[0;32m--> 411\u001b[0;31m         \u001b[0;32mreturn\u001b[0m \u001b[0mfunc\u001b[0m\u001b[0;34m(\u001b[0m\u001b[0;34m*\u001b[0m\u001b[0minner_args\u001b[0m\u001b[0;34m,\u001b[0m \u001b[0;34m**\u001b[0m\u001b[0minner_kwargs\u001b[0m\u001b[0;34m)\u001b[0m\u001b[0;34m\u001b[0m\u001b[0;34m\u001b[0m\u001b[0m\n\u001b[0m\u001b[1;32m    412\u001b[0m \u001b[0;34m\u001b[0m\u001b[0m\n\u001b[1;32m    413\u001b[0m     \u001b[0;32mreturn\u001b[0m \u001b[0mwrapper\u001b[0m\u001b[0;34m\u001b[0m\u001b[0;34m\u001b[0m\u001b[0m\n",
      "\u001b[0;32m/opt/anaconda3/lib/python3.8/site-packages/matplotlib/axes/_axes.py\u001b[0m in \u001b[0;36mscatter\u001b[0;34m(self, x, y, s, c, marker, cmap, norm, vmin, vmax, alpha, linewidths, verts, edgecolors, plotnonfinite, **kwargs)\u001b[0m\n\u001b[1;32m   4439\u001b[0m         \u001b[0my\u001b[0m \u001b[0;34m=\u001b[0m \u001b[0mnp\u001b[0m\u001b[0;34m.\u001b[0m\u001b[0mma\u001b[0m\u001b[0;34m.\u001b[0m\u001b[0mravel\u001b[0m\u001b[0;34m(\u001b[0m\u001b[0my\u001b[0m\u001b[0;34m)\u001b[0m\u001b[0;34m\u001b[0m\u001b[0;34m\u001b[0m\u001b[0m\n\u001b[1;32m   4440\u001b[0m         \u001b[0;32mif\u001b[0m \u001b[0mx\u001b[0m\u001b[0;34m.\u001b[0m\u001b[0msize\u001b[0m \u001b[0;34m!=\u001b[0m \u001b[0my\u001b[0m\u001b[0;34m.\u001b[0m\u001b[0msize\u001b[0m\u001b[0;34m:\u001b[0m\u001b[0;34m\u001b[0m\u001b[0;34m\u001b[0m\u001b[0m\n\u001b[0;32m-> 4441\u001b[0;31m             \u001b[0;32mraise\u001b[0m \u001b[0mValueError\u001b[0m\u001b[0;34m(\u001b[0m\u001b[0;34m\"x and y must be the same size\"\u001b[0m\u001b[0;34m)\u001b[0m\u001b[0;34m\u001b[0m\u001b[0;34m\u001b[0m\u001b[0m\n\u001b[0m\u001b[1;32m   4442\u001b[0m \u001b[0;34m\u001b[0m\u001b[0m\n\u001b[1;32m   4443\u001b[0m         \u001b[0;32mif\u001b[0m \u001b[0ms\u001b[0m \u001b[0;32mis\u001b[0m \u001b[0;32mNone\u001b[0m\u001b[0;34m:\u001b[0m\u001b[0;34m\u001b[0m\u001b[0;34m\u001b[0m\u001b[0m\n",
      "\u001b[0;31mValueError\u001b[0m: x and y must be the same size"
     ]
    },
    {
     "data": {
      "image/png": "[encoded data removed]",
      "text/plain": [
       "<Figure size 432x288 with 1 Axes>"
      ]
     },
     "metadata": {
      "needs_background": "light"
     },
     "output_type": "display_data"
    }
   ],
   "source": [
    "plt.figure()\n",
    "plt.scatter(X,y, alpha=0.2)\n",
    "plt.plot(test_X, y_pred, color='red', linewidth=2, alpha=0.7)\n",
    "plt.scatter(test_X, y_pred, color='r', s=100, marker='*')\n",
    "plt.show()"
   ]
  },
  {
   "cell_type": "code",
   "execution_count": 27,
   "id": "bc2b57f4",
   "metadata": {},
   "outputs": [
    {
     "name": "stdout",
     "output_type": "stream",
     "text": [
      "[ -6.47115465  42.2215563   -1.84525033  12.18238389 -11.25233258\n",
      "  -2.83941501  17.21398291 -20.24611142   8.63303869  -1.85570302\n",
      "  25.84272086  -5.86947309  -5.00804061 -11.6783355  -17.54325313\n",
      "   4.30986316 157.19040938  -1.22787497 -46.551463    14.04379451\n",
      "  14.46741916  -9.86053785  -7.35092126 -40.01137877  -8.09427581\n",
      " -26.14470663 -32.39872034  20.37519748  -8.05753821  -9.8104645\n",
      " -92.87231989   0.8791757    1.95251885   2.78622554  30.15142577\n",
      "  26.25258347  15.89963143   0.59416012  -3.32113321  13.575239\n",
      "  27.8651142    8.1999169   23.58695656 -96.05916237   1.12636998\n",
      "  47.48270091  -0.42953698   7.83398513 -17.53745065   9.33393601\n",
      "   1.50829954  22.99838915   1.61953778  22.22028619 -13.02831531\n",
      "  24.98188982  12.40335376  18.99270545]\n",
      "(298,)\n",
      "(90,)\n",
      "Error cuadrático medio: 4275.15\n",
      "Estadístico R_2: 0.62\n"
     ]
    }
   ],
   "source": [
    "print(lin_reg.coef_)\n",
    "from sklearn.metrics import mean_squared_error, r2_score\n",
    "\n",
    "print(y.shape)\n",
    "print(y_pred.shape)\n",
    "print('Error cuadrático medio: %.2f' % mean_squared_error(y_test, y_pred))\n",
    "print('Estadístico R_2: %.2f' % r2_score(y_test, y_pred))"
   ]
  },
  {
   "cell_type": "code",
   "execution_count": null,
   "id": "4588c9c0",
   "metadata": {},
   "outputs": [],
   "source": [
    "from sklearn.decomposition import PCA\n",
    "pca = PCA().fit(X)  # si no le damos el número de componentes a PCA, entrega explained_variance_ratio para sumar 1\n",
    "plt.plot(np.cumsum(pca.explained_variance_ratio_))\n",
    "plt.xlabel('# componentes')\n",
    "plt.ylabel('cumulative explained variance')\n",
    "plt.grid()\n",
    "plt.show()\n",
    "pca.explained_variance_ratio_"
   ]
  },
  {
   "cell_type": "code",
   "execution_count": null,
   "id": "e62a5e01",
   "metadata": {},
   "outputs": [],
   "source": [
    "pca = PCA()    # definimos el número de componentes a las que vamos a proyectar\n",
    "pca.fit(X)\n",
    "X_pca = pca.transform(X)\n",
    "X_train, X_test, y_train, y_test = train_test_split(X_pca, y,            # Datos y etiquetas \n",
    "                                                    test_size=0.3,   # Proporción del dataset que será del conjunto de test\n",
    "                                                    random_state=42) # Controla el shuffle de los datos antes de hacer el split"
   ]
  },
  {
   "cell_type": "code",
   "execution_count": null,
   "id": "b5518aa5",
   "metadata": {},
   "outputs": [],
   "source": [
    "lin_reg_pca = LinearRegression()\n",
    "lin_reg_pca.fit(X_train, y_train)"
   ]
  },
  {
   "cell_type": "code",
   "execution_count": null,
   "id": "0d8fbec1",
   "metadata": {},
   "outputs": [],
   "source": [
    "y_pred_pca = lin_reg_pca.predict(X_test)\n",
    "y_pred_pca.shape"
   ]
  },
  {
   "cell_type": "code",
   "execution_count": null,
   "id": "8e2244aa",
   "metadata": {},
   "outputs": [],
   "source": [
    "print('Error cuadrático medio: %.2f' % mean_squared_error(y_test, y_pred_pca))\n",
    "print('Estadístico R_2: %.2f' % r2_score(y_test, y_pred_pca))\n"
   ]
  },
  {
   "cell_type": "code",
   "execution_count": null,
   "id": "6d73b4c2",
   "metadata": {},
   "outputs": [],
   "source": [
    "X_train, X_test, y_train, y_test = train_test_split(X, y,            # Datos y etiquetas \n",
    "                                                    test_size=0.3,   # Proporción del dataset que será del conjunto de test\n",
    "                                                    random_state=42) # Controla el shuffle de los datos antes de hacer el split"
   ]
  },
  {
   "cell_type": "code",
   "execution_count": null,
   "id": "ef2de7c2",
   "metadata": {},
   "outputs": [],
   "source": [
    "from sklearn.preprocessing import PolynomialFeatures\n",
    "i=2\n",
    "while i<6:\n",
    "    poly = PolynomialFeatures(degree=i)\n",
    "    X_ = poly.fit_transform(X_train)\n",
    "    model = LinearRegression()\n",
    "    model.fit(X_, y_train)\n",
    "    X_t = poly.fit_transform(X_test)\n",
    "    y_predict = model.predict(X_t)\n",
    "    print('Dimensión: %.0f' % i)\n",
    "    print('Error cuadrático medio: %.2f' % mean_squared_error(y_test, y_predict))\n",
    "    print('Estadístico R_2: %.2f' % r2_score(y_test, y_predict))\n",
    "    i=i+1"
   ]
  },
  {
   "cell_type": "code",
   "execution_count": null,
   "id": "df1a87e2",
   "metadata": {},
   "outputs": [],
   "source": [
    "from sklearn.cluster import KMeans\n",
    "from sklearn.metrics import silhouette_score\n",
    "\n",
    "ns = [2, 3, 4, 5, 6, 7, 8, 9, 10, 11, 12, 13]\n",
    "\n",
    "ss = []\n",
    "for n in ns:\n",
    "    kmeans = KMeans(n_clusters=n)\n",
    "    kmeans.fit(X)\n",
    "\n",
    "    centers = kmeans.cluster_centers_\n",
    "    \n",
    "    labels = kmeans.labels_\n",
    "    score = silhouette_score(X, labels)\n",
    "\n",
    "    ss.append(score)\n",
    "    print (\"n = \", n, \", silhouette = \", score)\n",
    "    \n",
    "plt.figure()\n",
    "plt.plot(ns, ss)\n",
    "plt.ylabel(\"Silhouette Score\")\n",
    "plt.xlabel (\"# clusters\")\n",
    "plt.grid()\n",
    "plt.show()\n",
    "ss=[]\n",
    "for n in ns:\n",
    "    kmeans = KMeans(n_clusters=n)\n",
    "    kmeans.fit(X_pca)\n",
    "\n",
    "    centers = kmeans.cluster_centers_\n",
    "    \n",
    "    labels = kmeans.labels_\n",
    "    score = silhouette_score(X_pca, labels)\n",
    "\n",
    "    ss.append(score)\n",
    "    print (\"n = \", n, \", silhouette = \", score)\n",
    "    \n",
    "plt.figure()\n",
    "plt.plot(ns, ss)\n",
    "plt.ylabel(\"Silhouette Score\")\n",
    "plt.xlabel (\"# clusters\")\n",
    "plt.grid()\n",
    "plt.show()"
   ]
  },
  {
   "cell_type": "code",
   "execution_count": null,
   "id": "90a6cd82",
   "metadata": {},
   "outputs": [],
   "source": [
    "# get importance\n",
    "importance = lin_reg.coef_\n",
    "#summarize feature importance\n",
    "for i,v in enumerate(importance):\n",
    "print('Feature: %0d, Nombre %s Score: %.5f' % (i,X.columns[i],v))\n",
    "# plot feature importance\n",
    "plt.bar([x for x in range(len(importance))], importance)\n",
    "plt.show()"
   ]
  },
  {
   "cell_type": "code",
   "execution_count": null,
   "id": "056ec78e",
   "metadata": {},
   "outputs": [],
   "source": []
  },
  {
   "cell_type": "code",
   "execution_count": null,
   "id": "2f11ebd4",
   "metadata": {},
   "outputs": [],
   "source": []
  }
 ],
 "metadata": {
  "kernelspec": {
   "display_name": "Python 3",
   "language": "python",
   "name": "python3"
  },
  "language_info": {
   "codemirror_mode": {
    "name": "ipython",
    "version": 3
   },
   "file_extension": ".py",
   "mimetype": "text/x-python",
   "name": "python",
   "nbconvert_exporter": "python",
   "pygments_lexer": "ipython3",
   "version": "3.8.8"
  }
 },
 "nbformat": 4,
 "nbformat_minor": 5
}
